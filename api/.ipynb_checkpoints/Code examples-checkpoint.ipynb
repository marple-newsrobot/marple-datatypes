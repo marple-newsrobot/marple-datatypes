{
 "cells": [
  {
   "cell_type": "code",
   "execution_count": 69,
   "metadata": {
    "collapsed": true
   },
   "outputs": [],
   "source": [
    "from marple.datatypes import Domain\n",
    "from marple.schema import Datatype\n",
    "from marple.csv import CsvFile\n",
    "from marple.utils import isNaN\n",
    "import csvkit as csv\n",
    "import os\n",
    "from copy import deepcopy\n",
    "import pprint\n",
    "pp = pprint.PrettyPrinter(indent=2)\n"
   ]
  },
  {
   "cell_type": "code",
   "execution_count": 49,
   "metadata": {
    "collapsed": true
   },
   "outputs": [],
   "source": [
    "DATATYPES_DIR = \"..\"\n",
    "LANG = \"en\"\n"
   ]
  },
  {
   "cell_type": "markdown",
   "metadata": {},
   "source": [
    "`/GET /datatype`"
   ]
  },
  {
   "cell_type": "code",
   "execution_count": 41,
   "metadata": {
    "scrolled": false
   },
   "outputs": [
    {
     "name": "stdout",
     "output_type": "stream",
     "text": [
      "[ { u'allowed_values': u'misc/age_groups',\n",
      "    u'description': None,\n",
      "    'id': u'age_group',\n",
      "    u'value_type': u'str'},\n",
      "  { u'allowed_values': u'misc/crime_codes',\n",
      "    u'description': u'A crime code (brottskod) used by the Swedish police',\n",
      "    'id': u'crime_code',\n",
      "    u'value_type': u'str'},\n",
      "  { u'allowed_values': u'misc/crime_types',\n",
      "    u'description': u'A crime type (brottstyp) used by the Swedish police. Higher level than brottskod.',\n",
      "    'id': u'crime_type',\n",
      "    u'value_type': u'str'},\n",
      "  { u'allowed_values': u'misc/foreignborn',\n",
      "    u'description': u'Is the subject born outside Sweden?',\n",
      "    'id': u'foreignborn',\n",
      "    u'value_type': u'str'},\n",
      "  { u'allowed_values': u'misc/genders',\n",
      "    u'description': u'A subjects gender',\n",
      "    'id': u'gender',\n",
      "    u'value_type': u'str'}]\n"
     ]
    }
   ],
   "source": [
    "data = []\n",
    "\n",
    "file_path = os.path.join(DATATYPES_DIR, \"datatypes.csv\")\n",
    "csv_file = CsvFile(file_path)\n",
    "# TODO: Add path\n",
    "pp.pprint(csv_file.to_dictlist()[:5])"
   ]
  },
  {
   "cell_type": "markdown",
   "metadata": {},
   "source": [
    "`/GET /datatype/{datatype_id}`"
   ]
  },
  {
   "cell_type": "code",
   "execution_count": 56,
   "metadata": {},
   "outputs": [
    {
     "name": "stdout",
     "output_type": "stream",
     "text": [
      "{ 'allowed_values': [ { 'id': u'male',\n",
      "                        'label': u'Men',\n",
      "                        'path': u'http://marple-datatypes.com/item/male'},\n",
      "                      { 'id': u'female',\n",
      "                        'label': u'Women',\n",
      "                        'path': u'http://marple-datatypes.com/item/female'},\n",
      "                      { 'id': u'other',\n",
      "                        'label': u'Other',\n",
      "                        'path': u'http://marple-datatypes.com/item/other'},\n",
      "                      { 'id': u'unknown',\n",
      "                        'label': u'Unknown',\n",
      "                        'path': u'http://marple-datatypes.com/item/unknown'},\n",
      "                      { 'id': u'all genders',\n",
      "                        'label': u'Both men and women',\n",
      "                        'path': u'http://marple-datatypes.com/item/all genders'}],\n",
      "  'id': 'gender'}\n"
     ]
    }
   ],
   "source": [
    "datatype_id = \"gender\"\n",
    "datatype = Datatype(datatype_id, datatypes_dir=DATATYPES_DIR)\n",
    "allowed_values = []\n",
    "\n",
    "data = {\n",
    "    \"id\": datatype_id,\n",
    "    \"allowed_values\": []\n",
    "}\n",
    "labels = datatype.labels(lang=EN)\n",
    "\n",
    "for allowed_value in datatype.allowed_values:\n",
    "    data[\"allowed_values\"].append({\n",
    "        \"id\": allowed_value,\n",
    "        \"label\": labels[allowed_value],\n",
    "        \"path\": u\"http://marple-datatypes.com/item/{}\".format(allowed_value),\n",
    "    })\n",
    "    \n",
    "pp.pprint(data)"
   ]
  },
  {
   "cell_type": "markdown",
   "metadata": {},
   "source": [
    "`/GET /item/{item_id}`"
   ]
  },
  {
   "cell_type": "code",
   "execution_count": 99,
   "metadata": {},
   "outputs": [
    {
     "ename": "KeyError",
     "evalue": "u\"Stockholms kommun is missing under the domain '**/*'\"",
     "output_type": "error",
     "traceback": [
      "\u001b[0;31m---------------------------------------------------------------------------\u001b[0m",
      "\u001b[0;31mKeyError\u001b[0m                                  Traceback (most recent call last)",
      "\u001b[0;32m<ipython-input-99-3e6bd32b3f72>\u001b[0m in \u001b[0;36m<module>\u001b[0;34m()\u001b[0m\n\u001b[1;32m     10\u001b[0m \u001b[0;31m# Get all availabl\u001b[0m\u001b[0;34m\u001b[0m\u001b[0;34m\u001b[0m\u001b[0m\n\u001b[1;32m     11\u001b[0m \u001b[0mall_domains\u001b[0m \u001b[0;34m=\u001b[0m \u001b[0mDomain\u001b[0m\u001b[0;34m(\u001b[0m\u001b[0;34m\"**/*\"\u001b[0m\u001b[0;34m,\u001b[0m \u001b[0mdatatypes_dir\u001b[0m\u001b[0;34m=\u001b[0m\u001b[0mDATATYPES_DIR\u001b[0m\u001b[0;34m)\u001b[0m\u001b[0;34m\u001b[0m\u001b[0m\n\u001b[0;32m---> 12\u001b[0;31m \u001b[0mdata\u001b[0m \u001b[0;34m=\u001b[0m \u001b[0mall_domains\u001b[0m\u001b[0;34m.\u001b[0m\u001b[0mrow\u001b[0m\u001b[0;34m(\u001b[0m\u001b[0mitem_id\u001b[0m\u001b[0;34m)\u001b[0m\u001b[0;34m\u001b[0m\u001b[0m\n\u001b[0m\u001b[1;32m     13\u001b[0m \u001b[0;31m# This is something of a hack. The Domain class will include a lot of empty columns/propeties defined in other files\u001b[0m\u001b[0;34m\u001b[0m\u001b[0;34m\u001b[0m\u001b[0m\n\u001b[1;32m     14\u001b[0m \u001b[0;31m# Here we clean up those\u001b[0m\u001b[0;34m\u001b[0m\u001b[0;34m\u001b[0m\u001b[0m\n",
      "\u001b[0;32m/usr/local/lib/python2.7/dist-packages/marple/datatypes.pyc\u001b[0m in \u001b[0;36mrow\u001b[0;34m(self, id_)\u001b[0m\n\u001b[1;32m     49\u001b[0m         \u001b[0;32mexcept\u001b[0m \u001b[0mKeyError\u001b[0m\u001b[0;34m:\u001b[0m\u001b[0;34m\u001b[0m\u001b[0m\n\u001b[1;32m     50\u001b[0m             \u001b[0mmsg\u001b[0m \u001b[0;34m=\u001b[0m \u001b[0;34mu\"{} is missing under the domain '{}'\"\u001b[0m\u001b[0;34m.\u001b[0m\u001b[0mformat\u001b[0m\u001b[0;34m(\u001b[0m\u001b[0mid_\u001b[0m\u001b[0;34m,\u001b[0m \u001b[0mself\u001b[0m\u001b[0;34m.\u001b[0m\u001b[0mdomain_name\u001b[0m\u001b[0;34m)\u001b[0m\u001b[0;34m\u001b[0m\u001b[0m\n\u001b[0;32m---> 51\u001b[0;31m             \u001b[0;32mraise\u001b[0m \u001b[0mKeyError\u001b[0m\u001b[0;34m(\u001b[0m\u001b[0mmsg\u001b[0m\u001b[0;34m)\u001b[0m\u001b[0;34m\u001b[0m\u001b[0m\n\u001b[0m\u001b[1;32m     52\u001b[0m \u001b[0;34m\u001b[0m\u001b[0m\n\u001b[1;32m     53\u001b[0m         \u001b[0;32mif\u001b[0m \u001b[0misinstance\u001b[0m\u001b[0;34m(\u001b[0m\u001b[0mrow\u001b[0m\u001b[0;34m,\u001b[0m \u001b[0mpd\u001b[0m\u001b[0;34m.\u001b[0m\u001b[0mDataFrame\u001b[0m\u001b[0;34m)\u001b[0m\u001b[0;34m:\u001b[0m\u001b[0;34m\u001b[0m\u001b[0m\n",
      "\u001b[0;31mKeyError\u001b[0m: u\"Stockholms kommun is missing under the domain '**/*'\""
     ]
    }
   ],
   "source": [
    "def remove_nan(obj): \n",
    "    \"\"\"Remove all NaN values\n",
    "    \"\"\"\n",
    "    for key, value in obj.items():\n",
    "        if isNaN(value):\n",
    "            obj.pop(key, None)\n",
    "    return obj\n",
    "\n",
    "item_id = \"Stockholms kommun\"\n",
    "# TODO: Implement glob2 in marple.py to able to include sub-folders recursively\n",
    "all_domains = Domain(\"*/*\", datatypes_dir=DATATYPES_DIR)\n",
    "data = all_domains.row(item_id)\n",
    "# This is something of a hack. The Domain class will include a lot of empty columns/propeties defined in other files\n",
    "# Here we clean up those\n",
    "data = remove_nan(data)\n",
    "\n",
    "# Translate label to selected language\n",
    "data[\"label\"] = all_domains.label(item_id,lang=LANG)\n",
    "\n",
    "# Populate relational properties\n",
    "relations_csv = CsvFile(\"../relations.csv\")\n",
    "# Ie {u'neighbours': u'one_to_many', u'parent': u'one_to_one'}\n",
    "relational_columns = dict(relations_csv.data.to_records())\n",
    "\n",
    "for column, relation_type in relational_columns.iteritems():\n",
    "    if column not in data:\n",
    "        continue\n",
    "    if relation_type == \"one_to_one\":\n",
    "        related_item_id = data[column] # ie the parent id\n",
    "        data[column] = {\n",
    "            \"id\": related_item_id,\n",
    "            \"label\": all_domains.label(related_item_id, lang=LANG),\n",
    "            \"path\": u\"http://marple-datatypes.com/item/{}\".format(related_item_id),\n",
    "        }\n",
    "    elif relation_type == \"one_to_many\":\n",
    "        related_item_ids = data[column].split(\",\") #ie neighbours\n",
    "        data[column] = []\n",
    "        for related_item_id in related_item_ids:\n",
    "            data[column].append({\n",
    "            \"id\": related_item_id,\n",
    "            \"label\": all_domains.label(related_item_id, lang=LANG),\n",
    "            \"path\": u\"http://marple-datatypes.com/item/{}\".format(related_item_id),\n",
    "            })\n",
    "\n",
    "data[\"children\"] = []             \n",
    "for child_id in all_domains.children(item_id):\n",
    "    data[\"children\"].append({\n",
    "        \"id\": child_id,\n",
    "        \"label\": all_domains.label(child_id, lang=LANG),\n",
    "        \"path\": u\"http://marple-datatypes.com/item/{}\".format(child_id),\n",
    "    })\n",
    "\n",
    "pp.pprint(data)"
   ]
  },
  {
   "cell_type": "code",
   "execution_count": 73,
   "metadata": {
    "collapsed": true
   },
   "outputs": [],
   "source": []
  },
  {
   "cell_type": "code",
   "execution_count": 81,
   "metadata": {},
   "outputs": [
    {
     "data": {
      "text/plain": [
       "{u'neighbours': u'one_to_many', u'parent': u'one_to_one'}"
      ]
     },
     "execution_count": 81,
     "metadata": {},
     "output_type": "execute_result"
    }
   ],
   "source": [
    "dict(relations_csv.data.to_records())"
   ]
  }
 ],
 "metadata": {
  "kernelspec": {
   "display_name": "Python 2",
   "language": "python",
   "name": "python2"
  },
  "language_info": {
   "codemirror_mode": {
    "name": "ipython",
    "version": 2
   },
   "file_extension": ".py",
   "mimetype": "text/x-python",
   "name": "python",
   "nbconvert_exporter": "python",
   "pygments_lexer": "ipython2",
   "version": "2.7.13"
  }
 },
 "nbformat": 4,
 "nbformat_minor": 2
}
