{
 "cells": [
  {
   "cell_type": "code",
   "execution_count": 1,
   "metadata": {
    "collapsed": true
   },
   "outputs": [],
   "source": [
    "from marple.datatypes import Domain\n",
    "from marple.schema import Datatype\n",
    "from marple.csv import CsvFile\n",
    "from marple.utils import isNaN\n",
    "import csvkit as csv\n",
    "import os\n",
    "from copy import deepcopy\n",
    "import pprint\n",
    "pp = pprint.PrettyPrinter(indent=2)\n"
   ]
  },
  {
   "cell_type": "code",
   "execution_count": 2,
   "metadata": {
    "collapsed": true
   },
   "outputs": [],
   "source": [
    "# Get from settings, should point to root folder\n",
    "DATATYPES_DIR = \"..\"\n",
    "# Get from request\n",
    "LANG = \"en\"\n",
    "# Get from request\n",
    "DOMAIN = \"http://marple-datatypes.herokuapp.com\"\n",
    "\n",
    "# Points to root folder\n",
    "RELATIONS_CSV_PATH = \"../relations.csv\"\n",
    "\n",
    "# Use this object for getting labels etc\n",
    "# Get item by id: ALL_DOMAINS.row(\"Stockholms kommun\")\n",
    "# Get label for item: ALL_DOMAINS.label(\"Stockholms kommun\", lang=\"en\")\n",
    "# Get parent for item: ALL_DOMAINS.parent(\"Stockholms kommun\")\n",
    "# Get children for item: ALL_DOMAINS.children(\"Stockholms kommun\")\n",
    "\n",
    "ALL_DOMAINS = Domain(\"*/*\", datatypes_dir=DATATYPES_DIR)\n",
    "\n"
   ]
  },
  {
   "cell_type": "code",
   "execution_count": 3,
   "metadata": {},
   "outputs": [],
   "source": [
    "def jsonify_item(item_id, lang, domain):\n",
    "    \"\"\" \n",
    "    \"\"\"\n",
    "    return {\n",
    "        \"id\": item_id,\n",
    "        \"label\": ALL_DOMAINS.label(item_id, lang=lang),\n",
    "        \"path\": u\"{}/item/{}\".format(domain, item_id),\n",
    "    }"
   ]
  },
  {
   "cell_type": "markdown",
   "metadata": {},
   "source": [
    "`/GET /datatype`"
   ]
  },
  {
   "cell_type": "code",
   "execution_count": 4,
   "metadata": {
    "scrolled": false
   },
   "outputs": [
    {
     "name": "stdout",
     "output_type": "stream",
     "text": [
      "[ { u'allowed_values': u'misc/age_groups',\n",
      "    u'description': None,\n",
      "    'id': u'age_group',\n",
      "    u'value_type': u'str'},\n",
      "  { u'allowed_values': u'misc/crime_codes',\n",
      "    u'description': u'A crime code (brottskod) used by the Swedish police',\n",
      "    'id': u'crime_code',\n",
      "    u'value_type': u'str'},\n",
      "  { u'allowed_values': u'misc/crime_types',\n",
      "    u'description': u'A crime type (brottstyp) used by the Swedish police. Higher level than brottskod.',\n",
      "    'id': u'crime_type',\n",
      "    u'value_type': u'str'},\n",
      "  { u'allowed_values': u'misc/foreignborn',\n",
      "    u'description': u'Is the subject born outside Sweden?',\n",
      "    'id': u'foreignborn',\n",
      "    u'value_type': u'str'},\n",
      "  { u'allowed_values': u'misc/genders',\n",
      "    u'description': u'A subjects gender',\n",
      "    'id': u'gender',\n",
      "    u'value_type': u'str'}]\n"
     ]
    }
   ],
   "source": [
    "data = []\n",
    "\n",
    "file_path = os.path.join(DATATYPES_DIR, \"datatypes.csv\")\n",
    "csv_file = CsvFile(file_path)\n",
    "# TODO: Add path\n",
    "pp.pprint(csv_file.to_dictlist()[:5])"
   ]
  },
  {
   "cell_type": "markdown",
   "metadata": {},
   "source": [
    "`/GET /datatype/{datatype_id}`"
   ]
  },
  {
   "cell_type": "code",
   "execution_count": 5,
   "metadata": {},
   "outputs": [
    {
     "name": "stdout",
     "output_type": "stream",
     "text": [
      "{ 'allowed_values': [ { 'id': u'male',\n",
      "                        'label': u'Men',\n",
      "                        'path': u'http://marple-datatypes.herokuapp.com/item/male'},\n",
      "                      { 'id': u'female',\n",
      "                        'label': u'Women',\n",
      "                        'path': u'http://marple-datatypes.herokuapp.com/item/female'},\n",
      "                      { 'id': u'other',\n",
      "                        'label': u'Other',\n",
      "                        'path': u'http://marple-datatypes.herokuapp.com/item/other'},\n",
      "                      { 'id': u'unknown',\n",
      "                        'label': u'Unknown',\n",
      "                        'path': u'http://marple-datatypes.herokuapp.com/item/unknown'},\n",
      "                      { 'id': u'all genders',\n",
      "                        'label': u'Both men and women',\n",
      "                        'path': u'http://marple-datatypes.herokuapp.com/item/all genders'}],\n",
      "  'id': 'gender'}\n"
     ]
    }
   ],
   "source": [
    "datatype_id = \"gender\"\n",
    "datatype = Datatype(datatype_id, datatypes_dir=DATATYPES_DIR)\n",
    "allowed_values = []\n",
    "\n",
    "data = {\n",
    "    \"id\": datatype_id,\n",
    "    \"allowed_values\": []\n",
    "}\n",
    "\n",
    "# Get lang and domain from request!\n",
    "for allowed_value_id in datatype.allowed_values:\n",
    "    data[\"allowed_values\"].append(jsonify_item(allowed_value_id, LANG, DOMAIN))\n",
    "    \n",
    "pp.pprint(data)"
   ]
  },
  {
   "cell_type": "markdown",
   "metadata": {},
   "source": [
    "`/GET /item/{item_id}` "
   ]
  },
  {
   "cell_type": "code",
   "execution_count": 6,
   "metadata": {},
   "outputs": [
    {
     "ename": "NameError",
     "evalue": "name 'all_domains' is not defined",
     "output_type": "error",
     "traceback": [
      "\u001b[0;31m---------------------------------------------------------------------------\u001b[0m",
      "\u001b[0;31mNameError\u001b[0m                                 Traceback (most recent call last)",
      "\u001b[0;32m<ipython-input-6-5bc3a485df53>\u001b[0m in \u001b[0;36m<module>\u001b[0;34m()\u001b[0m\n\u001b[1;32m     37\u001b[0m \u001b[0;34m\u001b[0m\u001b[0m\n\u001b[1;32m     38\u001b[0m \u001b[0mdata\u001b[0m\u001b[0;34m[\u001b[0m\u001b[0;34m\"children\"\u001b[0m\u001b[0;34m]\u001b[0m \u001b[0;34m=\u001b[0m \u001b[0;34m[\u001b[0m\u001b[0;34m]\u001b[0m\u001b[0;34m\u001b[0m\u001b[0m\n\u001b[0;32m---> 39\u001b[0;31m \u001b[0;32mfor\u001b[0m \u001b[0mchild_id\u001b[0m \u001b[0;32min\u001b[0m \u001b[0mall_domains\u001b[0m\u001b[0;34m.\u001b[0m\u001b[0mchildren\u001b[0m\u001b[0;34m(\u001b[0m\u001b[0mitem_id\u001b[0m\u001b[0;34m)\u001b[0m\u001b[0;34m:\u001b[0m\u001b[0;34m\u001b[0m\u001b[0m\n\u001b[0m\u001b[1;32m     40\u001b[0m     \u001b[0mdata\u001b[0m\u001b[0;34m[\u001b[0m\u001b[0;34m\"children\"\u001b[0m\u001b[0;34m]\u001b[0m\u001b[0;34m.\u001b[0m\u001b[0mappend\u001b[0m\u001b[0;34m(\u001b[0m\u001b[0mjsonify_item\u001b[0m\u001b[0;34m(\u001b[0m\u001b[0mchild_id\u001b[0m\u001b[0;34m,\u001b[0m \u001b[0mLANG\u001b[0m\u001b[0;34m,\u001b[0m \u001b[0mDOMAIN\u001b[0m\u001b[0;34m)\u001b[0m\u001b[0;34m)\u001b[0m\u001b[0;34m\u001b[0m\u001b[0m\n\u001b[1;32m     41\u001b[0m \u001b[0;34m\u001b[0m\u001b[0m\n",
      "\u001b[0;31mNameError\u001b[0m: name 'all_domains' is not defined"
     ]
    }
   ],
   "source": [
    "def remove_nan(obj): \n",
    "    \"\"\"Remove all NaN values\n",
    "    \"\"\"\n",
    "    for key, value in obj.items():\n",
    "        if isNaN(value):\n",
    "            obj.pop(key, None)\n",
    "    return obj\n",
    "\n",
    "item_id = \"Stockholms kommun\"\n",
    "# TODO: Use \"**/*\" to fetch all files in all subfolders once glob2 in place\n",
    "data = ALL_DOMAINS.row(item_id)\n",
    "# This is something of a hack. The Domain class will include a lot of empty columns/propeties defined in other files\n",
    "# Here we clean up those\n",
    "data = remove_nan(data)\n",
    "\n",
    "# Translate label to selected language\n",
    "data[\"label\"] = ALL_DOMAINS.label(item_id,lang=LANG)\n",
    "\n",
    "# Populate relational properties (parent, neighbours etc)\n",
    "# These relations are defined in relations.csv in the root folder\n",
    "relations_csv = CsvFile(RELATIONS_CSV_PATH)\n",
    "# Ie {u'neighbours': u'one_to_many', u'parent': u'one_to_one'}\n",
    "relational_columns = dict(relations_csv.data.to_records())\n",
    "\n",
    "for column, relation_type in relational_columns.iteritems():\n",
    "    if column not in data:\n",
    "        continue\n",
    "    if relation_type == \"one_to_one\":\n",
    "        related_item_id = data[column] # ie the parent id\n",
    "        data[column] = jsonify_item(related_item_id, LANG, DOMAIN)\n",
    "        \n",
    "    elif relation_type == \"one_to_many\":\n",
    "        related_item_ids = data[column].split(\",\") #ie neighbours\n",
    "        data[column] = []\n",
    "        for related_item_id in related_item_ids:\n",
    "            data[column].append(jsonify_item(related_item_id, LANG, DOMAIN))\n",
    "\n",
    "data[\"children\"] = []             \n",
    "for child_id in all_domains.children(item_id):\n",
    "    data[\"children\"].append(jsonify_item(child_id, LANG, DOMAIN))\n",
    "\n",
    "pp.pprint(data)"
   ]
  },
  {
   "cell_type": "code",
   "execution_count": null,
   "metadata": {
    "collapsed": true
   },
   "outputs": [],
   "source": []
  },
  {
   "cell_type": "code",
   "execution_count": null,
   "metadata": {},
   "outputs": [],
   "source": [
    "dict(relations_csv.data.to_records())"
   ]
  }
 ],
 "metadata": {
  "kernelspec": {
   "display_name": "Python 2",
   "language": "python",
   "name": "python2"
  },
  "language_info": {
   "codemirror_mode": {
    "name": "ipython",
    "version": 2
   },
   "file_extension": ".py",
   "mimetype": "text/x-python",
   "name": "python",
   "nbconvert_exporter": "python",
   "pygments_lexer": "ipython2",
   "version": "2.7.13"
  }
 },
 "nbformat": 4,
 "nbformat_minor": 2
}
